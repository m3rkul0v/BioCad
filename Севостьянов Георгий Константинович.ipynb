{
 "cells": [
  {
   "cell_type": "markdown",
   "metadata": {},
   "source": [
    "<center style=\"font-size: 26px\"> <b>Проверка уровня знаний Python</b></center>"
   ]
  },
  {
   "cell_type": "code",
   "execution_count": 1,
   "metadata": {},
   "outputs": [],
   "source": [
    "# обеспечиваем совместимость с Python 2 и 3\n",
    "from __future__ import (absolute_import, division, print_function, unicode_literals)\n",
    "\n",
    "# отключаем предупреждения дистрибутива Anaconda\n",
    "import warnings\n",
    "warnings.simplefilter('ignore')"
   ]
  },
  {
   "cell_type": "markdown",
   "metadata": {},
   "source": [
    "### Практические задания:"
   ]
  },
  {
   "cell_type": "markdown",
   "metadata": {},
   "source": [
    "#### Загрузите датасет, который вы использовали в блоке задания Power BI как dataframe\n",
    "\n",
    "[Датасет с платформы ИНИД](https://www.data-in.ru/data-catalog/datasets/133/#dataset-overview)"
   ]
  },
  {
   "cell_type": "code",
   "execution_count": 2,
   "metadata": {},
   "outputs": [],
   "source": [
    "# ВАШ КОД ЗДЕСЬ\n",
    "\n",
    "import pandas as pd\n",
    "import numpy as np\n",
    "\n",
    "df = pd.read_excel (\"data.xlsx\")"
   ]
  },
  {
   "cell_type": "markdown",
   "metadata": {},
   "source": [
    "#### 1. Выведете типы данных столбцов"
   ]
  },
  {
   "cell_type": "code",
   "execution_count": 3,
   "metadata": {
    "scrolled": true
   },
   "outputs": [
    {
     "data": {
      "text/plain": [
       "Страна                                                            object\n",
       "Краткие обозначения                                               object\n",
       "Город                                                             object\n",
       "Дата \\nпоставки/\\nновости                                 datetime64[ns]\n",
       "Дата завершения (для случаев отправления персонала)       datetime64[ns]\n",
       "Природа помощи (правительственная/неправительственная)            object\n",
       "Наборы тестов (кол-во)                                           float64\n",
       "Тест-системы/исследования (кол-во)                               float64\n",
       "Тесты (факт)                                                     float64\n",
       "СИЗ (факт)                                                       float64\n",
       "Мед. оборудование (факт)                                         float64\n",
       "Медикаменты (факт)                                               float64\n",
       "Персонал (факт)                                                  float64\n",
       "Вакцина (кол-во)                                                 float64\n",
       "Марка вакцины                                                     object\n",
       "Вакцина (первый компонент)                                       float64\n",
       "Вакцина (второй компонент)                                       float64\n",
       "Вакцина (факт)                                                   float64\n",
       "Прочее (факт)                                                    float64\n",
       "Карточка помощи \\n(описание, текст)                               object\n",
       "Источник 1                                                        object\n",
       "Источник 2                                                        object\n",
       "Источник 3                                                        object\n",
       "Роспотребнадзор                                                  float64\n",
       "МЧС                                                              float64\n",
       "Минобороны                                                       float64\n",
       "Минздрав                                                         float64\n",
       "ФМБА                                                             float64\n",
       "Другие организации                                                object\n",
       "Международные \\nорганизации                                       object\n",
       "dtype: object"
      ]
     },
     "execution_count": 3,
     "metadata": {},
     "output_type": "execute_result"
    }
   ],
   "source": [
    "# ВАШ КОД ЗДЕСЬ\n",
    "df.dtypes\n"
   ]
  },
  {
   "cell_type": "markdown",
   "metadata": {},
   "source": [
    "#### 3. Уберите из названий столбцов знаки переносов ('\\n')"
   ]
  },
  {
   "cell_type": "code",
   "execution_count": 14,
   "metadata": {
    "scrolled": true
   },
   "outputs": [],
   "source": [
    "# ВАШ КОД ЗДЕСЬ\n",
    "df.columns = df.columns.str.replace('\\n','')\n"
   ]
  },
  {
   "cell_type": "markdown",
   "metadata": {},
   "source": [
    "#### 4. Выведите таблицу, которая позволит просмотреть первую дату поставки и общее количество поставленной вакцины в рамках Марки вакцины и страны."
   ]
  },
  {
   "cell_type": "markdown",
   "metadata": {},
   "source": [
    "##### Выделим из изначального датасета фрейм, содержаий только необходимые для решения задачи данные;"
   ]
  },
  {
   "cell_type": "code",
   "execution_count": 5,
   "metadata": {
    "scrolled": false
   },
   "outputs": [],
   "source": [
    "# ВАШ КОД ЗДЕСЬ\n",
    "df1 = df[['Страна', 'Дата поставки/новости','Вакцина (кол-во)', 'Марка вакцины']]\n",
    "df1 = df1.rename(columns={'Страна':'Country','Дата поставки/новости':'Date', 'Вакцина (кол-во)':'Kolvo', 'Марка вакцины':'Marka'})\n",
    "df1=df1[df1.Kolvo > 0]\n",
    "df1 = df1.sort_values(by='Date', ascending=True)"
   ]
  },
  {
   "cell_type": "markdown",
   "metadata": {},
   "source": [
    "##### Создадим два фрейма, содержащие уникальные значения для стран и марок, а затем создадим новый датафрейм, содержащий все возможные комбинации "
   ]
  },
  {
   "cell_type": "code",
   "execution_count": 6,
   "metadata": {
    "scrolled": true
   },
   "outputs": [],
   "source": [
    "df2 = pd.unique(df1['Country'])\n",
    "df3=pd.unique(df1['Marka'])"
   ]
  },
  {
   "cell_type": "code",
   "execution_count": 7,
   "metadata": {
    "scrolled": true
   },
   "outputs": [],
   "source": [
    "new_df=pd.DataFrame()\n",
    "df4=[]\n",
    "df5=[]\n",
    "for i in df2:\n",
    "    for j in df3:\n",
    "        df4=[i,j,0,0]\n",
    "        df5.append(df4)        \n",
    "new_df=pd.DataFrame(data = df5, columns = ['Country','Marka','Kolvo','Data'])"
   ]
  },
  {
   "cell_type": "markdown",
   "metadata": {},
   "source": [
    "##### Затем, если пара из нового датафрейма действительно содержалась в изначальном, т.е поставка конкретной марки в конкретную страну была совершена, подсчитаем количество для данной поставки, а также будем определять дату для первой из них\n",
    "##### Если по итогу заполнения количество осталось равным нулю, т.е поставок не соврешалось, удаляем данную строку"
   ]
  },
  {
   "cell_type": "code",
   "execution_count": 12,
   "metadata": {
    "scrolled": true
   },
   "outputs": [
    {
     "data": {
      "text/html": [
       "<div>\n",
       "<style scoped>\n",
       "    .dataframe tbody tr th:only-of-type {\n",
       "        vertical-align: middle;\n",
       "    }\n",
       "\n",
       "    .dataframe tbody tr th {\n",
       "        vertical-align: top;\n",
       "    }\n",
       "\n",
       "    .dataframe thead th {\n",
       "        text-align: right;\n",
       "    }\n",
       "</style>\n",
       "<table border=\"1\" class=\"dataframe\">\n",
       "  <thead>\n",
       "    <tr style=\"text-align: right;\">\n",
       "      <th></th>\n",
       "      <th>Country</th>\n",
       "      <th>Marka</th>\n",
       "      <th>Kolvo</th>\n",
       "      <th>Data</th>\n",
       "    </tr>\n",
       "  </thead>\n",
       "  <tbody>\n",
       "    <tr>\n",
       "      <th>0</th>\n",
       "      <td>Белоруссия</td>\n",
       "      <td>ЭпиВакКорона</td>\n",
       "      <td>300</td>\n",
       "      <td>2021-02-03 00:00:00</td>\n",
       "    </tr>\n",
       "    <tr>\n",
       "      <th>4</th>\n",
       "      <td>Палестина</td>\n",
       "      <td>Спутник V</td>\n",
       "      <td>30000</td>\n",
       "      <td>2021-02-04 00:00:00</td>\n",
       "    </tr>\n",
       "    <tr>\n",
       "      <th>7</th>\n",
       "      <td>Никарагуа</td>\n",
       "      <td>Спутник V</td>\n",
       "      <td>106000</td>\n",
       "      <td>2021-02-23 00:00:00</td>\n",
       "    </tr>\n",
       "    <tr>\n",
       "      <th>10</th>\n",
       "      <td>Армения</td>\n",
       "      <td>Спутник V</td>\n",
       "      <td>2060</td>\n",
       "      <td>2021-03-02 00:00:00</td>\n",
       "    </tr>\n",
       "    <tr>\n",
       "      <th>13</th>\n",
       "      <td>Вьетнам</td>\n",
       "      <td>Спутник V</td>\n",
       "      <td>1000</td>\n",
       "      <td>2021-03-16 00:00:00</td>\n",
       "    </tr>\n",
       "    <tr>\n",
       "      <th>14</th>\n",
       "      <td>Вьетнам</td>\n",
       "      <td>Спутник Лайт</td>\n",
       "      <td>100000</td>\n",
       "      <td>2021-12-24 00:00:00</td>\n",
       "    </tr>\n",
       "    <tr>\n",
       "      <th>16</th>\n",
       "      <td>Киргизия</td>\n",
       "      <td>Спутник V</td>\n",
       "      <td>5000</td>\n",
       "      <td>2021-04-22 00:00:00</td>\n",
       "    </tr>\n",
       "    <tr>\n",
       "      <th>17</th>\n",
       "      <td>Киргизия</td>\n",
       "      <td>Спутник Лайт</td>\n",
       "      <td>200000</td>\n",
       "      <td>2021-11-12 00:00:00</td>\n",
       "    </tr>\n",
       "    <tr>\n",
       "      <th>19</th>\n",
       "      <td>Молдавия</td>\n",
       "      <td>Спутник V</td>\n",
       "      <td>172000</td>\n",
       "      <td>2021-04-24 00:00:00</td>\n",
       "    </tr>\n",
       "    <tr>\n",
       "      <th>22</th>\n",
       "      <td>Азербайджан</td>\n",
       "      <td>Спутник V</td>\n",
       "      <td>15000</td>\n",
       "      <td>2021-04-26 00:00:00</td>\n",
       "    </tr>\n",
       "    <tr>\n",
       "      <th>25</th>\n",
       "      <td>Абхазия</td>\n",
       "      <td>Спутник V</td>\n",
       "      <td>2500</td>\n",
       "      <td>2021-04-30 00:00:00</td>\n",
       "    </tr>\n",
       "    <tr>\n",
       "      <th>28</th>\n",
       "      <td>Ангола</td>\n",
       "      <td>Спутник V</td>\n",
       "      <td>50000</td>\n",
       "      <td>2021-05-30 00:00:00</td>\n",
       "    </tr>\n",
       "    <tr>\n",
       "      <th>31</th>\n",
       "      <td>Зимбабве</td>\n",
       "      <td>Спутник V</td>\n",
       "      <td>50000</td>\n",
       "      <td>2021-06-09 00:00:00</td>\n",
       "    </tr>\n",
       "    <tr>\n",
       "      <th>34</th>\n",
       "      <td>Египет</td>\n",
       "      <td>Спутник V</td>\n",
       "      <td>13680</td>\n",
       "      <td>2021-06-17 00:00:00</td>\n",
       "    </tr>\n",
       "    <tr>\n",
       "      <th>38</th>\n",
       "      <td>Сирия</td>\n",
       "      <td>Спутник Лайт</td>\n",
       "      <td>250000</td>\n",
       "      <td>2021-07-24 00:00:00</td>\n",
       "    </tr>\n",
       "    <tr>\n",
       "      <th>41</th>\n",
       "      <td>Украина</td>\n",
       "      <td>Спутник Лайт</td>\n",
       "      <td>798350</td>\n",
       "      <td>2021-07-28 00:00:00</td>\n",
       "    </tr>\n",
       "    <tr>\n",
       "      <th>43</th>\n",
       "      <td>Таджикистан</td>\n",
       "      <td>Спутник V</td>\n",
       "      <td>50000</td>\n",
       "      <td>2021-08-13 00:00:00</td>\n",
       "    </tr>\n",
       "    <tr>\n",
       "      <th>47</th>\n",
       "      <td>Лаос</td>\n",
       "      <td>Спутник Лайт</td>\n",
       "      <td>30000</td>\n",
       "      <td>2021-09-22 00:00:00</td>\n",
       "    </tr>\n",
       "    <tr>\n",
       "      <th>49</th>\n",
       "      <td>Шри-Ланка</td>\n",
       "      <td>Спутник V</td>\n",
       "      <td>5000</td>\n",
       "      <td>2021-11-22 00:00:00</td>\n",
       "    </tr>\n",
       "    <tr>\n",
       "      <th>53</th>\n",
       "      <td>Турменистан</td>\n",
       "      <td>Спутник Лайт</td>\n",
       "      <td>10000</td>\n",
       "      <td>2021-12-24 00:00:00</td>\n",
       "    </tr>\n",
       "    <tr>\n",
       "      <th>56</th>\n",
       "      <td>Джибути</td>\n",
       "      <td>Спутник Лайт</td>\n",
       "      <td>100000</td>\n",
       "      <td>2022-01-03 00:00:00</td>\n",
       "    </tr>\n",
       "    <tr>\n",
       "      <th>59</th>\n",
       "      <td>Тунис</td>\n",
       "      <td>Спутник Лайт</td>\n",
       "      <td>100000</td>\n",
       "      <td>2022-01-15 00:00:00</td>\n",
       "    </tr>\n",
       "    <tr>\n",
       "      <th>62</th>\n",
       "      <td>Бенин</td>\n",
       "      <td>Спутник Лайт</td>\n",
       "      <td>100000</td>\n",
       "      <td>2022-01-24 00:00:00</td>\n",
       "    </tr>\n",
       "  </tbody>\n",
       "</table>\n",
       "</div>"
      ],
      "text/plain": [
       "        Country         Marka   Kolvo                 Data\n",
       "0    Белоруссия  ЭпиВакКорона     300  2021-02-03 00:00:00\n",
       "4     Палестина     Спутник V   30000  2021-02-04 00:00:00\n",
       "7     Никарагуа     Спутник V  106000  2021-02-23 00:00:00\n",
       "10      Армения     Спутник V    2060  2021-03-02 00:00:00\n",
       "13      Вьетнам     Спутник V    1000  2021-03-16 00:00:00\n",
       "14      Вьетнам  Спутник Лайт  100000  2021-12-24 00:00:00\n",
       "16     Киргизия     Спутник V    5000  2021-04-22 00:00:00\n",
       "17     Киргизия  Спутник Лайт  200000  2021-11-12 00:00:00\n",
       "19     Молдавия     Спутник V  172000  2021-04-24 00:00:00\n",
       "22  Азербайджан     Спутник V   15000  2021-04-26 00:00:00\n",
       "25      Абхазия     Спутник V    2500  2021-04-30 00:00:00\n",
       "28       Ангола     Спутник V   50000  2021-05-30 00:00:00\n",
       "31     Зимбабве     Спутник V   50000  2021-06-09 00:00:00\n",
       "34       Египет     Спутник V   13680  2021-06-17 00:00:00\n",
       "38        Сирия  Спутник Лайт  250000  2021-07-24 00:00:00\n",
       "41      Украина  Спутник Лайт  798350  2021-07-28 00:00:00\n",
       "43  Таджикистан     Спутник V   50000  2021-08-13 00:00:00\n",
       "47         Лаос  Спутник Лайт   30000  2021-09-22 00:00:00\n",
       "49    Шри-Ланка     Спутник V    5000  2021-11-22 00:00:00\n",
       "53  Турменистан  Спутник Лайт   10000  2021-12-24 00:00:00\n",
       "56      Джибути  Спутник Лайт  100000  2022-01-03 00:00:00\n",
       "59        Тунис  Спутник Лайт  100000  2022-01-15 00:00:00\n",
       "62        Бенин  Спутник Лайт  100000  2022-01-24 00:00:00"
      ]
     },
     "execution_count": 12,
     "metadata": {},
     "output_type": "execute_result"
    }
   ],
   "source": [
    "df6=[]\n",
    "for index, row in new_df.iterrows():\n",
    "    k=0\n",
    "    df7=[]\n",
    "    for index2, row2 in df1.iterrows():\n",
    "        if row['Country'] == row2['Country'] and row['Marka'] == row2['Marka']:\n",
    "            k+=row2['Kolvo']\n",
    "            df7.append(row2['Date'])\n",
    "    new_df.loc[index,'Kolvo'] = k\n",
    "    new_df.loc[index,'Data'] = min(df7)\n",
    "    \n",
    "new_df=new_df[new_df.Kolvo > 0]\n",
    "new_df"
   ]
  },
  {
   "cell_type": "markdown",
   "metadata": {},
   "source": [
    "#### 5. Напишите код для выгрузки полученной таблицы из задания 4 в xlsx так, чтобы лист Excel-файла назывался \"Выгрузка\" и были сохранены заголовки таблицы"
   ]
  },
  {
   "cell_type": "code",
   "execution_count": 13,
   "metadata": {
    "scrolled": true
   },
   "outputs": [],
   "source": [
    "# ВАШ КОД ЗДЕСЬ\n",
    "\n",
    "from openpyxl import load_workbook\n",
    "ExcelWorkbook = load_workbook('/Users/merkulov/Desktop/data.xlsx')\n",
    "writer = pd.ExcelWriter('/Users/merkulov/Desktop/data.xlsx', engine = 'openpyxl')\n",
    "writer.book = ExcelWorkbook\n",
    "new_df.to_excel(writer, sheet_name = 'Выгрузка')\n",
    "writer.close()"
   ]
  },
  {
   "cell_type": "markdown",
   "metadata": {},
   "source": [
    "#### 6. Достать домены источников 1, 2, 3\n",
    "Для столбцов Источников создать столбцы Доменов, где будет извлечен только домен (источник: https://sputnik-abkhazia.ru/Abkhazia/20200320/..., домен: sputnik-abkhazia.ru). В исходном датасете 3 столбца источника и соответственно должно быть создана 3 столбца с доменами."
   ]
  },
  {
   "cell_type": "markdown",
   "metadata": {},
   "source": [
    "##### Так как при взаимодействии с NaN парсер доменов конфликтовал со значением, изначально заменим все NaN на 0, затем пройдем по всем строкам в стобцах \"Источник\", и создадим для них элемент, содержащий только доменное значение"
   ]
  },
  {
   "cell_type": "code",
   "execution_count": 72,
   "metadata": {},
   "outputs": [],
   "source": [
    "# ВАШ КОД ЗДЕСЬ\n",
    "df\n",
    "from urllib.parse import urlparse\n",
    "dom1=[]\n",
    "dom2=[]\n",
    "dom3=[]\n",
    "df['Источник 1'] = df['Источник 1'].fillna(0)\n",
    "df['Источник 2'] = df['Источник 2'].fillna(0)\n",
    "df['Источник 3'] = df['Источник 3'].fillna(0)\n",
    "\n",
    "for index, row in df.iterrows():\n",
    "    k=row['Источник 1']\n",
    "    if k!=0:\n",
    "        domain = urlparse(k).netloc\n",
    "        dom1.append(domain)\n",
    "    else:\n",
    "        dom1.append('Error')\n",
    "\n",
    "for index, row in df.iterrows():\n",
    "    k=row['Источник 2']\n",
    "    if k!=0:\n",
    "        domain = urlparse(k).netloc\n",
    "        dom2.append(domain)\n",
    "    else:\n",
    "        dom2.append('Error')\n",
    "\n",
    "for index, row in df.iterrows():\n",
    "    k=row['Источник 3']\n",
    "    if k!=0:\n",
    "        domain = urlparse(k).netloc\n",
    "        dom3.append(domain)\n",
    "    else:\n",
    "        dom3.append('Error')\n",
    "        \n",
    "df['Domain1'] = dom1\n",
    "df['Domain2'] = dom2\n",
    "df['Domain3'] = dom3"
   ]
  },
  {
   "cell_type": "code",
   "execution_count": null,
   "metadata": {},
   "outputs": [],
   "source": []
  }
 ],
 "metadata": {
  "kernelspec": {
   "display_name": "Python 3 (ipykernel)",
   "language": "python",
   "name": "python3"
  },
  "language_info": {
   "codemirror_mode": {
    "name": "ipython",
    "version": 3
   },
   "file_extension": ".py",
   "mimetype": "text/x-python",
   "name": "python",
   "nbconvert_exporter": "python",
   "pygments_lexer": "ipython3",
   "version": "3.9.13"
  }
 },
 "nbformat": 4,
 "nbformat_minor": 4
}
